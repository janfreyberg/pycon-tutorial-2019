{
 "cells": [
  {
   "cell_type": "markdown",
   "metadata": {},
   "source": [
    "# A custom layer in Keras (that's just more, smaller layers)"
   ]
  },
  {
   "cell_type": "markdown",
   "metadata": {},
   "source": [
    "## Entire models as layers"
   ]
  },
  {
   "cell_type": "code",
   "execution_count": 1,
   "metadata": {},
   "outputs": [],
   "source": [
    "from tensorflow import keras\n",
    "from tensorflow.keras import layers\n",
    "from tensorflow.keras.models import Model\n",
    "from tensorflow.keras.layers import Input, Dense\n",
    "from tensorflow.keras.applications import ResNet50\n"
   ]
  },
  {
   "cell_type": "code",
   "execution_count": 2,
   "metadata": {},
   "outputs": [
    {
     "name": "stdout",
     "output_type": "stream",
     "text": [
      "WARNING:tensorflow:From /Users/jan/miniconda3/envs/py37/lib/python3.7/site-packages/tensorflow/python/ops/resource_variable_ops.py:435: colocate_with (from tensorflow.python.framework.ops) is deprecated and will be removed in a future version.\n",
      "Instructions for updating:\n",
      "Colocations handled automatically by placer.\n"
     ]
    },
    {
     "name": "stderr",
     "output_type": "stream",
     "text": [
      "/Users/jan/miniconda3/envs/py37/lib/python3.7/site-packages/keras_applications/resnet50.py:265: UserWarning: The output shape of `ResNet50(include_top=False)` has been changed since Keras 2.2.0.\n",
      "  warnings.warn('The output shape of `ResNet50(include_top=False)` '\n"
     ]
    }
   ],
   "source": [
    "input_shape = (243, 320, 1)\n",
    "\n",
    "face_1 = Input(shape=input_shape)\n",
    "face_2 = Input(shape=input_shape)\n",
    "\n",
    "embedding_unit = ResNet50(\n",
    "    input_shape=(243, 320, 3),\n",
    "    weights='imagenet',\n",
    "    include_top=False,\n",
    ")\n",
    "embedding_unit.trainable = False\n",
    "\n",
    "pooling_layer = layers.GlobalAvgPool2D()\n",
    "concatenation_layer = layers.Concatenate()\n",
    "\n",
    "dense_layers = keras.Sequential(\n",
    "    [\n",
    "        layers.Dense(64, activation='relu'),\n",
    "        layers.Dense(1, activation='sigmoid'),\n",
    "    ]\n",
    ")\n",
    "\n",
    "embedding_1 = embedding_unit(\n",
    "    concatenation_layer(3 * [face_1])\n",
    ")\n",
    "embedding_2 = embedding_unit(\n",
    "    concatenation_layer(3 * [face_2])\n",
    ")\n",
    "both_embeddings = concatenation_layer(\n",
    "    [\n",
    "        pooling_layer(embedding_1),\n",
    "        pooling_layer(embedding_2)\n",
    "    ]\n",
    ")\n",
    "output = dense_layers(both_embeddings)\n",
    "\n",
    "model = Model(inputs=[face_1, face_2], outputs=output)"
   ]
  },
  {
   "cell_type": "code",
   "execution_count": 3,
   "metadata": {},
   "outputs": [],
   "source": [
    "from pathlib import Path\n",
    "import numpy as np\n",
    "from PIL import Image\n",
    "import random\n",
    "\n",
    "class FaceDataset(keras.utils.Sequence):\n",
    "    \n",
    "    def __init__(\n",
    "        self,\n",
    "        folder=\"/Users/jan/datasets/yale-face-database/\",\n",
    "        batch_size=32,\n",
    "        n_channels=1,\n",
    "        shuffle=True\n",
    "    ):\n",
    "        self.batch_size = batch_size\n",
    "        self.root = Path(folder)\n",
    "        self.files = list(self.root.glob(\"*\"))\n",
    "        self.images = np.stack(\n",
    "            [np.array(Image.open(file)) for file in self.files]\n",
    "        )[..., np.newaxis] / 255\n",
    "        self.identities = np.array([int(str(file.stem).replace(\"subject\", \"\")[:2]) for file in self.files])\n",
    "    \n",
    "    def __getitem__(self, index):\n",
    "        'Generate one batch of data'\n",
    "                \n",
    "        indices_1 = np.random.randint(\n",
    "            low=0, high=len(self.images), size=self.batch_size\n",
    "        )\n",
    "        indices_2 = np.random.randint(\n",
    "            low=0, high=len(self.images), size=self.batch_size\n",
    "        )\n",
    "        \n",
    "        X = [self.images[indices_1, ...], self.images[indices_2]]\n",
    "        y = (self.identities[indices_1] == self.identities[indices_2]).astype(int)\n",
    "        return X, y\n",
    "\n",
    "\n",
    "    def __len__(self):\n",
    "        return len(self.files) * 2 // self.batch_size\n"
   ]
  },
  {
   "cell_type": "code",
   "execution_count": 4,
   "metadata": {},
   "outputs": [
    {
     "name": "stdout",
     "output_type": "stream",
     "text": [
      "WARNING:tensorflow:From /Users/jan/miniconda3/envs/py37/lib/python3.7/site-packages/tensorflow/python/keras/utils/losses_utils.py:170: to_float (from tensorflow.python.ops.math_ops) is deprecated and will be removed in a future version.\n",
      "Instructions for updating:\n",
      "Use tf.cast instead.\n",
      "WARNING:tensorflow:From /Users/jan/miniconda3/envs/py37/lib/python3.7/site-packages/tensorflow/python/ops/math_ops.py:3066: to_int32 (from tensorflow.python.ops.math_ops) is deprecated and will be removed in a future version.\n",
      "Instructions for updating:\n",
      "Use tf.cast instead.\n",
      "Epoch 1/4\n",
      "27/27 [==============================] - 82s 3s/step - loss: 0.3185\n",
      "Epoch 2/4\n",
      "27/27 [==============================] - 85s 3s/step - loss: 0.1449\n",
      "Epoch 3/4\n",
      "27/27 [==============================] - 85s 3s/step - loss: 0.0805\n",
      "Epoch 4/4\n",
      "27/27 [==============================] - 81s 3s/step - loss: 0.0588\n"
     ]
    },
    {
     "data": {
      "text/plain": [
       "<tensorflow.python.keras.callbacks.History at 0x1423edb38>"
      ]
     },
     "execution_count": 4,
     "metadata": {},
     "output_type": "execute_result"
    }
   ],
   "source": [
    "model.compile(\n",
    "    optimizer=keras.optimizers.Adam(lr=0.0003),\n",
    "    loss=keras.losses.BinaryCrossentropy()\n",
    ")\n",
    "\n",
    "model.fit_generator(\n",
    "    generator=FaceDataset(batch_size=12),\n",
    "    epochs=4,\n",
    "    use_multiprocessing=True,\n",
    "    workers=6\n",
    ")"
   ]
  }
 ],
 "metadata": {
  "kernelspec": {
   "display_name": "Python 3",
   "language": "python",
   "name": "python3"
  },
  "language_info": {
   "codemirror_mode": {
    "name": "ipython",
    "version": 3
   },
   "file_extension": ".py",
   "mimetype": "text/x-python",
   "name": "python",
   "nbconvert_exporter": "python",
   "pygments_lexer": "ipython3",
   "version": "3.7.3"
  }
 },
 "nbformat": 4,
 "nbformat_minor": 4
}
